{
 "cells": [
  {
   "cell_type": "code",
   "execution_count": 83,
   "metadata": {
    "id": "1G3T9Ut0EH0f"
   },
   "outputs": [],
   "source": [
    "import cv2\n",
    "import numpy as np\n",
    "import random\n",
    "import time"
   ]
  },
  {
   "cell_type": "code",
   "execution_count": 84,
   "metadata": {
    "id": "nAyf48PjPyry"
   },
   "outputs": [],
   "source": [
    "random_seed = 2022"
   ]
  },
  {
   "cell_type": "code",
   "execution_count": 85,
   "metadata": {
    "colab": {
     "base_uri": "https://localhost:8080/"
    },
    "id": "3wDi9BUkScNX",
    "outputId": "08e06068-bfcf-4786-d600-9b217b75b38e"
   },
   "outputs": [],
   "source": [
    "#blank_image = np.zeros((20,20,3), np.uint8)\n",
    "#blank_image[:] = (255,0,0)\n",
    "#cv2.imwrite(\"new.png\",blank_image)"
   ]
  },
  {
   "cell_type": "code",
   "execution_count": 86,
   "metadata": {
    "colab": {
     "base_uri": "https://localhost:8080/",
     "height": 37
    },
    "id": "Vn4Odu5HHUX1",
    "outputId": "8f9b74b8-9238-4c80-8a2c-76731e89aee7"
   },
   "outputs": [],
   "source": [
    "source_image_path = \"lena.png\"\n",
    "source_image = cv2.imread(source_image_path)"
   ]
  },
  {
   "cell_type": "code",
   "execution_count": 87,
   "metadata": {
    "colab": {
     "base_uri": "https://localhost:8080/"
    },
    "id": "XXQ2RW7wKHjI",
    "outputId": "c092d7e4-06b3-41ba-d1c9-8fc65cf9cfd1"
   },
   "outputs": [
    {
     "data": {
      "text/plain": [
       "array([ 84, 104, 105, 115,  32, 105, 115,  32,  97,  32, 118,  97, 114,\n",
       "       105,  97,  98, 108, 101,  32, 116, 101, 120, 116,  32, 116, 111,\n",
       "        32, 104, 105, 100, 101,  32, 105, 110,  32,  97, 110,  32, 105,\n",
       "       109,  97, 103, 101,  46], dtype=uint8)"
      ]
     },
     "execution_count": 87,
     "metadata": {},
     "output_type": "execute_result"
    }
   ],
   "source": [
    "text_to_hide = \"This is a variable text to hide in an image.\"\n",
    "text_array = list(text_to_hide)\n",
    "text_array = list(map(lambda x: ord(x),text_array))\n",
    "text_array = np.array(text_array)\n",
    "text_array.astype(dtype='uint8')\n",
    "\n"
   ]
  },
  {
   "cell_type": "code",
   "execution_count": 88,
   "metadata": {
    "id": "-tbcJ_1HMWBx"
   },
   "outputs": [],
   "source": [
    "def encode(img_path,text):\n",
    "  img = cv2.imread(img_path)\n",
    "  img_height,img_width,_ = img.shape\n",
    "\n",
    "  text_array = list(text)\n",
    "  text_array = list(map(lambda x: ord(x),text_array))\n",
    "  text_array = np.array(text_array)\n",
    "  text_array.astype(dtype='uint8')\n",
    "\n",
    "  hide_text_dim = len(text)\n",
    "  \n",
    "  # Get random seed\n",
    "  y_random_indices, x_random_indices = list(range(img_height)), list(range(img_width))\n",
    "  random.seed(random_seed)\n",
    "  random.shuffle(x_random_indices)\n",
    "  random.shuffle(y_random_indices)\n",
    "\n",
    "  # Injection watermark\n",
    "  hide_layer = np.zeros(img.shape, dtype=np.uint8)\n",
    "  for x in range(hide_text_dim):\n",
    "    hide_layer[y_random_indices[x], x_random_indices[x]] = text_array[x]\n",
    "\n",
    "  img_freq = np.fft.fft(img)\n",
    "  encoded_freq = img_freq + hide_layer\n",
    "\n",
    "  new_img = np.fft.ifft(encoded_freq)\n",
    "  new_img = np.real(new_img).astype(np.uint8)\n",
    "\n",
    "  global copy_img\n",
    "  copy_img = new_img\n",
    "\n",
    "  #cv2_imshow(new_img)\n",
    "  cv2.imwrite(\"encoded.png\",new_img)\n",
    "\n"
   ]
  },
  {
   "cell_type": "code",
   "execution_count": 89,
   "metadata": {
    "colab": {
     "base_uri": "https://localhost:8080/",
     "height": 37
    },
    "id": "lh1czc5cM7Hb",
    "outputId": "6901510f-c74e-4786-bb82-0e990bd06287"
   },
   "outputs": [],
   "source": [
    " encode(source_image_path,text_to_hide)"
   ]
  },
  {
   "cell_type": "code",
   "execution_count": 90,
   "metadata": {
    "id": "bAobjinZQvZ5"
   },
   "outputs": [],
   "source": [
    "def decode(src_path,src_encoded):\n",
    "  img = cv2.imread(src_path)\n",
    "  img_height,img_width,_ = img.shape\n",
    "\n",
    "  img_encoded = cv2.imread(src_encoded)\n",
    "  \n",
    "  # Get random seed\n",
    "  y_random_indices, x_random_indices = list(range(img_height)), list(range(img_width))\n",
    "  random.seed(random_seed)\n",
    "  random.shuffle(x_random_indices)\n",
    "  random.shuffle(y_random_indices)\n",
    "\n",
    "  img_freq = np.fft.fft(img)\n",
    "  encoded_freq = np.fft.fft(img_encoded)\n",
    "\n",
    "  hidden_layer = encoded_freq - img_freq\n",
    "\n",
    "  hidden_layer = np.real(hidden_layer).astype(np.uint8)\n",
    "\n",
    "  dim_text = 0\n",
    "  for rows in hidden_layer:\n",
    "    for elem in rows:\n",
    "      if elem[0] != 0:\n",
    "        dim_text += 1\n",
    "\n",
    "  recreated_text = []\n",
    "  for i in range(dim_text):\n",
    "    recreated_text.append(\"0\")\n",
    "  for i in range(dim_text):\n",
    "    recreated_text[i] = hidden_layer[y_random_indices[i],x_random_indices[i]][0]\n",
    "\n",
    "  decoded_text = ''.join(map(lambda x : chr(x),recreated_text))\n",
    "  print(decoded_text)\n"
   ]
  },
  {
   "cell_type": "code",
   "execution_count": 91,
   "metadata": {
    "colab": {
     "base_uri": "https://localhost:8080/"
    },
    "id": "XUH1jrroUHLM",
    "outputId": "1e97ac9a-e1c2-4e99-bdf6-58aacae2dec7"
   },
   "outputs": [
    {
     "name": "stdout",
     "output_type": "stream",
     "text": [
      "This is a variable text to hide in an image.\n"
     ]
    }
   ],
   "source": [
    "encoded_image = \"encoded.png\"\n",
    "decode(source_image_path,encoded_image)"
   ]
  },
  {
   "cell_type": "code",
   "execution_count": null,
   "metadata": {
    "id": "vPdeEgfnYtqm"
   },
   "outputs": [],
   "source": []
  }
 ],
 "metadata": {
  "colab": {
   "collapsed_sections": [],
   "name": "Steganography.ipynb",
   "provenance": []
  },
  "kernelspec": {
   "display_name": "Python 3",
   "language": "python",
   "name": "python3"
  },
  "language_info": {
   "codemirror_mode": {
    "name": "ipython",
    "version": 3
   },
   "file_extension": ".py",
   "mimetype": "text/x-python",
   "name": "python",
   "nbconvert_exporter": "python",
   "pygments_lexer": "ipython3",
   "version": "3.8.5"
  }
 },
 "nbformat": 4,
 "nbformat_minor": 1
}
