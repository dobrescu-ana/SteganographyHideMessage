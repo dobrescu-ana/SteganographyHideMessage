{
  "nbformat": 4,
  "nbformat_minor": 0,
  "metadata": {
    "colab": {
      "name": "Steganography.ipynb",
      "provenance": [],
      "collapsed_sections": []
    },
    "kernelspec": {
      "name": "python3",
      "display_name": "Python 3"
    },
    "language_info": {
      "name": "python"
    }
  },
  "cells": [
    {
      "cell_type": "code",
      "execution_count": 294,
      "metadata": {
        "id": "1G3T9Ut0EH0f"
      },
      "outputs": [],
      "source": [
        "import cv2 as cv\n",
        "import numpy as np\n",
        "import random\n",
        "import time\n",
        "from google.colab.patches import cv2_imshow"
      ]
    },
    {
      "cell_type": "code",
      "source": [
        "alpha = 0.5\n",
        "random_seed = 2022"
      ],
      "metadata": {
        "id": "nAyf48PjPyry"
      },
      "execution_count": 295,
      "outputs": []
    },
    {
      "cell_type": "code",
      "source": [
        "blank_image = np.zeros((20,20,3), np.uint8)\n",
        "blank_image[:] = (255,0,0)\n",
        "cv.imwrite(\"new.png\",blank_image)"
      ],
      "metadata": {
        "colab": {
          "base_uri": "https://localhost:8080/"
        },
        "id": "3wDi9BUkScNX",
        "outputId": "08e06068-bfcf-4786-d600-9b217b75b38e"
      },
      "execution_count": 296,
      "outputs": [
        {
          "output_type": "execute_result",
          "data": {
            "text/plain": [
              "True"
            ]
          },
          "metadata": {},
          "execution_count": 296
        }
      ]
    },
    {
      "cell_type": "code",
      "source": [
        "source_image_path = \"new.png\"\n",
        "source_image = cv.imread(source_image_path)\n",
        "cv2_imshow(source_image)"
      ],
      "metadata": {
        "colab": {
          "base_uri": "https://localhost:8080/",
          "height": 37
        },
        "id": "Vn4Odu5HHUX1",
        "outputId": "8f9b74b8-9238-4c80-8a2c-76731e89aee7"
      },
      "execution_count": 297,
      "outputs": [
        {
          "output_type": "display_data",
          "data": {
            "image/png": "[encoded data removed]",
            "text/plain": [
              "<PIL.Image.Image image mode=RGB size=20x20 at 0x7F8E60BB7290>"
            ]
          },
          "metadata": {}
        }
      ]
    },
    {
      "cell_type": "code",
      "source": [
        "text_to_hide = \"Te iubesc, Ana\"\n",
        "text_array = list(text_to_hide)\n",
        "text_array = list(map(lambda x: ord(x),text_array))\n",
        "text_array = np.array(text_array)\n",
        "text_array.astype(dtype='uint8')\n",
        "\n"
      ],
      "metadata": {
        "colab": {
          "base_uri": "https://localhost:8080/"
        },
        "id": "XXQ2RW7wKHjI",
        "outputId": "c092d7e4-06b3-41ba-d1c9-8fc65cf9cfd1"
      },
      "execution_count": 298,
      "outputs": [
        {
          "output_type": "execute_result",
          "data": {
            "text/plain": [
              "array([ 84, 101,  32, 105, 117,  98, 101, 115,  99,  44,  32,  65, 110,\n",
              "        97], dtype=uint8)"
            ]
          },
          "metadata": {},
          "execution_count": 298
        }
      ]
    },
    {
      "cell_type": "code",
      "source": [
        "def encode(img_path,text):\n",
        "  img = cv.imread(img_path)\n",
        "  img_height,img_width,_ = img.shape\n",
        "\n",
        "  text_array = list(text)\n",
        "  text_array = list(map(lambda x: ord(x),text_array))\n",
        "  text_array = np.array(text_array)\n",
        "  text_array.astype(dtype='uint8')\n",
        "\n",
        "  hide_text_dim = len(text)\n",
        "  \n",
        "  # Get random seed\n",
        "  y_random_indices, x_random_indices = list(range(img_height)), list(range(img_width))\n",
        "  random.seed(random_seed)\n",
        "  random.shuffle(x_random_indices)\n",
        "  random.shuffle(y_random_indices)\n",
        "\n",
        "  # Injection watermark\n",
        "  hide_layer = np.zeros(img.shape, dtype=np.uint8)\n",
        "  for x in range(hide_text_dim):\n",
        "    hide_layer[y_random_indices[x], x_random_indices[x]] = text_array[x]\n",
        "\n",
        "  img_freq = np.fft.fft(img)\n",
        "  encoded_freq = img_freq + hide_layer\n",
        "\n",
        "  new_img = np.fft.ifft(encoded_freq)\n",
        "  new_img = np.real(new_img).astype(np.uint8)\n",
        "\n",
        "  global copy_img\n",
        "  copy_img = new_img\n",
        "\n",
        "  cv2_imshow(new_img)\n",
        "  cv.imwrite(\"encoded.png\",new_img)\n",
        "\n"
      ],
      "metadata": {
        "id": "-tbcJ_1HMWBx"
      },
      "execution_count": 305,
      "outputs": []
    },
    {
      "cell_type": "code",
      "source": [
        " encode(source_image_path,text_to_hide)"
      ],
      "metadata": {
        "colab": {
          "base_uri": "https://localhost:8080/",
          "height": 37
        },
        "id": "lh1czc5cM7Hb",
        "outputId": "6901510f-c74e-4786-bb82-0e990bd06287"
      },
      "execution_count": 306,
      "outputs": [
        {
          "output_type": "display_data",
          "data": {
            "image/png": "[encoded data removed]",
            "text/plain": [
              "<PIL.Image.Image image mode=RGB size=20x20 at 0x7F8E60B1F390>"
            ]
          },
          "metadata": {}
        }
      ]
    },
    {
      "cell_type": "code",
      "source": [
        "def decode(src_path,src_encoded):\n",
        "  img = cv.imread(src_path)\n",
        "  img_height,img_width,_ = img.shape\n",
        "\n",
        "  img_encoded = cv.imread(src_encoded)\n",
        "  \n",
        "  # Get random seed\n",
        "  y_random_indices, x_random_indices = list(range(img_height)), list(range(img_width))\n",
        "  random.seed(random_seed)\n",
        "  random.shuffle(x_random_indices)\n",
        "  random.shuffle(y_random_indices)\n",
        "\n",
        "  img_freq = np.fft.fft(img)\n",
        "  encoded_freq = np.fft.fft(img_encoded)\n",
        "\n",
        "  hidden_layer = encoded_freq - img_freq\n",
        "\n",
        "  hidden_layer = np.real(hidden_layer).astype(np.uint8)\n",
        "\n",
        "  dim_text = 0\n",
        "  for rows in hidden_layer:\n",
        "    for elem in rows:\n",
        "      if elem[0] != 0:\n",
        "        dim_text += 1\n",
        "\n",
        "  recreated_text = []\n",
        "  for i in range(dim_text):\n",
        "    recreated_text.append(\"0\")\n",
        "  for i in range(dim_text):\n",
        "    recreated_text[i] = hidden_layer[y_random_indices[i],x_random_indices[i]][0]\n",
        "\n",
        "  decoded_text = ''.join(map(lambda x : chr(x),recreated_text))\n",
        "  print(decoded_text)\n"
      ],
      "metadata": {
        "id": "bAobjinZQvZ5"
      },
      "execution_count": 303,
      "outputs": []
    },
    {
      "cell_type": "code",
      "source": [
        "encoded_image = \"encoded.png\"\n",
        "decode(source_image_path,encoded_image)"
      ],
      "metadata": {
        "colab": {
          "base_uri": "https://localhost:8080/"
        },
        "id": "XUH1jrroUHLM",
        "outputId": "1e97ac9a-e1c2-4e99-bdf6-58aacae2dec7"
      },
      "execution_count": 304,
      "outputs": [
        {
          "output_type": "stream",
          "name": "stdout",
          "text": [
            "Te iubesc, Ana\n"
          ]
        }
      ]
    },
    {
      "cell_type": "code",
      "source": [
        ""
      ],
      "metadata": {
        "id": "vPdeEgfnYtqm"
      },
      "execution_count": null,
      "outputs": []
    }
  ]
}